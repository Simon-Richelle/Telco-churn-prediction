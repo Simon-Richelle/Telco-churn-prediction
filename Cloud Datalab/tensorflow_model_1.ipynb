{
 "cells": [
  {
   "cell_type": "markdown",
   "metadata": {},
   "source": [
    "In this first notebook, we use tensorflow estimator API, using no extra tensorflow features (checkpoint, tensorboard, etc.). Also, we use in memory data, retrieved from BigQuery.\n",
    "\n",
    "This dataset has been imported from Kaggle into Google Storage. Then it has been explored and cleaned in Dataprep. Finally, the output has been stored in a BigQuery table"
   ]
  },
  {
   "cell_type": "markdown",
   "metadata": {},
   "source": [
    "STEP 1 : import dataset from BigQuery"
   ]
  },
  {
   "cell_type": "code",
   "execution_count": null,
   "metadata": {},
   "outputs": [],
   "source": [
    "import google.datalab.bigquery as bq"
   ]
  },
  {
   "cell_type": "code",
   "execution_count": null,
   "metadata": {},
   "outputs": [],
   "source": [
    "from google.cloud import bigquery\n",
    "\n",
    "client = bigquery.Client()\n",
    "\n",
    "query =  \"\"\"SELECT\n",
    "   *\n",
    " FROM\n",
    "   `customer-churn-prediction.data_flow_reworked_data.reworked_data_V1`\"\"\"\n",
    "\n",
    "df = client.query(query).to_dataframe()\n",
    "df['Churn'] = df[\"Churn\"].astype(\"float64\")"
   ]
  },
  {
   "cell_type": "markdown",
   "metadata": {},
   "source": [
    "STEP 2 : basic tensorflow model"
   ]
  },
  {
   "cell_type": "code",
   "execution_count": 3,
   "metadata": {},
   "outputs": [
    {
     "name": "stderr",
     "output_type": "stream",
     "text": [
      "/usr/local/envs/py3env/lib/python3.5/site-packages/h5py/__init__.py:36: FutureWarning: Conversion of the second argument of issubdtype from `float` to `np.floating` is deprecated. In future, it will be treated as `np.float64 == np.dtype(float).type`.\n",
      "  from ._conv import register_converters as _register_converters\n"
     ]
    }
   ],
   "source": [
    "import pandas as pd\n",
    "import numpy as np\n",
    "import matplotlib.pyplot as plt\n",
    "import tensorflow as tf"
   ]
  },
  {
   "cell_type": "code",
   "execution_count": 4,
   "metadata": {},
   "outputs": [
    {
     "name": "stdout",
     "output_type": "stream",
     "text": [
      "Index(['gender', 'SeniorCitizen', 'Partner', 'Dependents', 'tenure',\n",
      "       'PhoneService', 'MultipleLines', 'InternetService', 'OnlineSecurity',\n",
      "       'OnlineBackup', 'DeviceProtection', 'TechSupport', 'StreamingTV',\n",
      "       'StreamingMovies', 'Contract', 'PaperlessBilling', 'PaymentMethod',\n",
      "       'MonthlyCharges', 'TotalCharges', 'Churn'],\n",
      "      dtype='object')\n",
      "\n",
      "\n",
      "===================================================================================\n",
      "<class 'pandas.core.frame.DataFrame'>\n",
      "RangeIndex: 7032 entries, 0 to 7031\n",
      "Data columns (total 20 columns):\n",
      "gender              7032 non-null object\n",
      "SeniorCitizen       7032 non-null object\n",
      "Partner             7032 non-null object\n",
      "Dependents          7032 non-null object\n",
      "tenure              7032 non-null float64\n",
      "PhoneService        7032 non-null object\n",
      "MultipleLines       7032 non-null object\n",
      "InternetService     7032 non-null object\n",
      "OnlineSecurity      7032 non-null object\n",
      "OnlineBackup        7032 non-null object\n",
      "DeviceProtection    7032 non-null object\n",
      "TechSupport         7032 non-null object\n",
      "StreamingTV         7032 non-null object\n",
      "StreamingMovies     7032 non-null object\n",
      "Contract            7032 non-null object\n",
      "PaperlessBilling    7032 non-null object\n",
      "PaymentMethod       7032 non-null object\n",
      "MonthlyCharges      7032 non-null float64\n",
      "TotalCharges        7032 non-null float64\n",
      "Churn               7032 non-null float64\n",
      "dtypes: float64(4), object(16)\n",
      "memory usage: 1.1+ MB\n",
      "None\n"
     ]
    }
   ],
   "source": [
    "print(df.columns)\n",
    "print(\"\\n\")\n",
    "print(\"===================================================================================\")\n",
    "print(df.info())"
   ]
  },
  {
   "cell_type": "code",
   "execution_count": 5,
   "metadata": {},
   "outputs": [
    {
     "name": "stdout",
     "output_type": "stream",
     "text": [
      "INFO:tensorflow:Using default config.\n",
      "WARNING:tensorflow:Using temporary folder as model directory: /tmp/tmp7nz4q6dr\n",
      "INFO:tensorflow:Using config: {'_keep_checkpoint_max': 5, '_evaluation_master': '', '_model_dir': '/tmp/tmp7nz4q6dr', '_service': None, '_task_type': 'worker', '_global_id_in_cluster': 0, '_is_chief': True, '_keep_checkpoint_every_n_hours': 10000, '_save_summary_steps': 100, '_log_step_count_steps': 100, '_num_ps_replicas': 0, '_cluster_spec': <tensorflow.python.training.server_lib.ClusterSpec object at 0x7ff1b59a0208>, '_tf_random_seed': None, '_save_checkpoints_secs': 600, '_train_distribute': None, '_master': '', '_save_checkpoints_steps': None, '_session_config': None, '_task_id': 0, '_num_worker_replicas': 1}\n",
      "INFO:tensorflow:Calling model_fn.\n",
      "INFO:tensorflow:Done calling model_fn.\n",
      "INFO:tensorflow:Create CheckpointSaverHook.\n",
      "INFO:tensorflow:Graph was finalized.\n",
      "INFO:tensorflow:Running local_init_op.\n",
      "INFO:tensorflow:Done running local_init_op.\n",
      "INFO:tensorflow:Saving checkpoints for 1 into /tmp/tmp7nz4q6dr/model.ckpt.\n",
      "INFO:tensorflow:step = 1, loss = 88.722855\n",
      "INFO:tensorflow:Saving checkpoints for 55 into /tmp/tmp7nz4q6dr/model.ckpt.\n",
      "INFO:tensorflow:Loss for final step: 703.4769.\n"
     ]
    },
    {
     "data": {
      "text/plain": [
       "<tensorflow.python.estimator.canned.linear.LinearClassifier at 0x7ff1b5998fd0>"
      ]
     },
     "execution_count": 5,
     "metadata": {},
     "output_type": "execute_result"
    }
   ],
   "source": [
    "featcols = [\n",
    "  tf.feature_column.numeric_column(\"TotalCharges\"),\n",
    "  tf.feature_column.numeric_column(\"MonthlyCharges\"),\n",
    "  tf.feature_column.numeric_column(\"tenure\"),\n",
    "  tf.feature_column.categorical_column_with_vocabulary_list(\"gender\", [\"Female\", \"Male\"]),\n",
    "  #tf.feature_column.categorical_column_with_vocabulary_list(\"SeniorCitizen\", [\"0\", \"1\"]),\n",
    "  tf.feature_column.categorical_column_with_vocabulary_list(\"Partner\", [\"Yes\", \"No\"]),\n",
    "  tf.feature_column.categorical_column_with_vocabulary_list(\"Dependents\", [\"Yes\", \"No\"]),\n",
    "  tf.feature_column.categorical_column_with_vocabulary_list(\"PhoneService\", [\"Yes\", \"No\"]),\n",
    "  tf.feature_column.categorical_column_with_vocabulary_list(\"MultipleLines\", [\"Yes\", \"No\", \"No·phone·service\"]),\n",
    "  tf.feature_column.categorical_column_with_vocabulary_list(\"InternetService\", [\"Yes\", \"No\", \"Fiber·optic\"]),\n",
    "  tf.feature_column.categorical_column_with_vocabulary_list(\"OnlineSecurity\", [\"Yes\", \"No\", \"No·internet·service\"]),\n",
    "  tf.feature_column.categorical_column_with_vocabulary_list(\"OnlineBackup\", [\"Yes\", \"No\", \"No·internet·service\"]),\n",
    "  tf.feature_column.categorical_column_with_vocabulary_list(\"DeviceProtection\", [\"Yes\", \"No\", \"No·internet·service\"]),\n",
    "  tf.feature_column.categorical_column_with_vocabulary_list(\"TechSupport\", [\"Yes\", \"No\", \"No·internet·service\"]),\n",
    "  tf.feature_column.categorical_column_with_vocabulary_list(\"StreamingTV\", [\"Yes\", \"No\", \"No·internet·service\"]),\n",
    "  tf.feature_column.categorical_column_with_vocabulary_list(\"StreamingMovies\", [\"Yes\", \"No\", \"No·internet·service\"]),\n",
    "  tf.feature_column.categorical_column_with_vocabulary_list(\"Contract\", [\"Month-to-month\", \"Two·year\", \"One·year\"]),\n",
    "  tf.feature_column.categorical_column_with_vocabulary_list(\"PaperlessBilling\", [\"Yes\", \"No\"]),\n",
    "  tf.feature_column.categorical_column_with_vocabulary_list(\"PaymentMethod\", [\"Electronic·check\", \"Mailed·check\", \"Bank·transfer·(automatic)\", \"Credit·card·(automatic)\"])\n",
    "]\n",
    "\n",
    "def pandas_train_input_fn(df):\n",
    "  return tf.estimator.inputs.pandas_input_fn(\n",
    "    x = df,\n",
    "    y = df['Churn'],\n",
    "    batch_size=128,\n",
    "    num_epochs=1,\n",
    "    shuffle=True,\n",
    "    queue_capacity=1000\n",
    "  )\n",
    "\n",
    "model = tf.estimator.LinearClassifier(featcols)\n",
    "\n",
    "model.train(pandas_train_input_fn(df))"
   ]
  }
 ],
 "metadata": {
  "kernelspec": {
   "display_name": "Python 3",
   "language": "python",
   "name": "python3"
  },
  "language_info": {
   "codemirror_mode": {
    "name": "ipython",
    "version": 3
   },
   "file_extension": ".py",
   "mimetype": "text/x-python",
   "name": "python",
   "nbconvert_exporter": "python",
   "pygments_lexer": "ipython3",
   "version": "3.5.6"
  }
 },
 "nbformat": 4,
 "nbformat_minor": 2
}
