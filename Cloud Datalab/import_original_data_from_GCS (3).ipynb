{
 "cells": [
  {
   "cell_type": "code",
   "execution_count": 2,
   "metadata": {},
   "outputs": [
    {
     "name": "stderr",
     "output_type": "stream",
     "text": [
      "Copying gs://customer_churn_prediction_kaggle/WA_Fn-UseC_-Telco-Customer-Churn.csv...\n",
      "/ [0 files][    0.0 B/954.6 KiB]                                                \r",
      "/ [1 files][954.6 KiB/954.6 KiB]                                                \r\n",
      "Operation completed over 1 objects/954.6 KiB.                                    \n"
     ]
    }
   ],
   "source": [
    "%bash\n",
    "\n",
    "gsutil cp gs://<BUCKET_PATH>/<FILE_NAME_GCS> <FILE_NAME_DATALAB>.csv"
   ]
  }
 ],
 "metadata": {
  "kernelspec": {
   "display_name": "Python 2",
   "language": "python",
   "name": "python2"
  },
  "language_info": {
   "codemirror_mode": {
    "name": "ipython",
    "version": 2
   },
   "file_extension": ".py",
   "mimetype": "text/x-python",
   "name": "python",
   "nbconvert_exporter": "python",
   "pygments_lexer": "ipython2",
   "version": "2.7.15"
  }
 },
 "nbformat": 4,
 "nbformat_minor": 2
}
