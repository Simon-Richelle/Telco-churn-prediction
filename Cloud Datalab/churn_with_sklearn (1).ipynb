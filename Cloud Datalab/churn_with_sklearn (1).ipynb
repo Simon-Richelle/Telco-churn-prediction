{
 "cells": [
  {
   "cell_type": "code",
   "execution_count": 68,
   "metadata": {},
   "outputs": [],
   "source": [
    "import google.datalab.bigquery as bq"
   ]
  },
  {
   "cell_type": "code",
   "execution_count": 69,
   "metadata": {},
   "outputs": [],
   "source": [
    "from google.cloud import bigquery\n",
    "\n",
    "client = bigquery.Client()\n",
    "\n",
    "query =  \"\"\"SELECT\n",
    "   *\n",
    " FROM\n",
    "   `customer-churn-prediction.data_flow_reworked_data.reworked_data_V1`\"\"\"\n",
    "\n",
    "df = client.query(query).to_dataframe()"
   ]
  },
  {
   "cell_type": "code",
   "execution_count": 70,
   "metadata": {},
   "outputs": [],
   "source": [
    "import pandas as pd\n",
    "import numpy as np\n",
    "import matplotlib.pyplot as plt\n",
    "import tensorflow as tf"
   ]
  },
  {
   "cell_type": "code",
   "execution_count": 71,
   "metadata": {},
   "outputs": [
    {
     "name": "stdout",
     "output_type": "stream",
     "text": [
      "Index(['gender', 'SeniorCitizen', 'Partner', 'Dependents', 'tenure',\n",
      "       'PhoneService', 'MultipleLines', 'InternetService', 'OnlineSecurity',\n",
      "       'OnlineBackup', 'DeviceProtection', 'TechSupport', 'StreamingTV',\n",
      "       'StreamingMovies', 'Contract', 'PaperlessBilling', 'PaymentMethod',\n",
      "       'MonthlyCharges', 'TotalCharges', 'Churn'],\n",
      "      dtype='object')\n",
      "===================================================================================\n",
      "<class 'pandas.core.frame.DataFrame'>\n",
      "RangeIndex: 7032 entries, 0 to 7031\n",
      "Data columns (total 20 columns):\n",
      "gender              7032 non-null object\n",
      "SeniorCitizen       7032 non-null object\n",
      "Partner             7032 non-null object\n",
      "Dependents          7032 non-null object\n",
      "tenure              7032 non-null float64\n",
      "PhoneService        7032 non-null object\n",
      "MultipleLines       7032 non-null object\n",
      "InternetService     7032 non-null object\n",
      "OnlineSecurity      7032 non-null object\n",
      "OnlineBackup        7032 non-null object\n",
      "DeviceProtection    7032 non-null object\n",
      "TechSupport         7032 non-null object\n",
      "StreamingTV         7032 non-null object\n",
      "StreamingMovies     7032 non-null object\n",
      "Contract            7032 non-null object\n",
      "PaperlessBilling    7032 non-null object\n",
      "PaymentMethod       7032 non-null object\n",
      "MonthlyCharges      7032 non-null float64\n",
      "TotalCharges        7032 non-null float64\n",
      "Churn               7032 non-null int64\n",
      "dtypes: float64(3), int64(1), object(16)\n",
      "memory usage: 1.1+ MB\n",
      "None\n"
     ]
    }
   ],
   "source": [
    "print(df.columns)\n",
    "print(\"===================================================================================\")\n",
    "print(df.info())"
   ]
  },
  {
   "cell_type": "code",
   "execution_count": 72,
   "metadata": {},
   "outputs": [
    {
     "name": "stdout",
     "output_type": "stream",
     "text": [
      "<class 'pandas.core.frame.DataFrame'>\n",
      "RangeIndex: 7032 entries, 0 to 7031\n",
      "Data columns (total 31 columns):\n",
      "tenure                                   7032 non-null float64\n",
      "MonthlyCharges                           7032 non-null float64\n",
      "TotalCharges                             7032 non-null float64\n",
      "Churn                                    7032 non-null int64\n",
      "gender_Male                              7032 non-null uint8\n",
      "SeniorCitizen_1                          7032 non-null uint8\n",
      "Partner_Yes                              7032 non-null uint8\n",
      "Dependents_Yes                           7032 non-null uint8\n",
      "PhoneService_Yes                         7032 non-null uint8\n",
      "MultipleLines_No phone service           7032 non-null uint8\n",
      "MultipleLines_Yes                        7032 non-null uint8\n",
      "InternetService_Fiber optic              7032 non-null uint8\n",
      "InternetService_No                       7032 non-null uint8\n",
      "OnlineSecurity_No internet service       7032 non-null uint8\n",
      "OnlineSecurity_Yes                       7032 non-null uint8\n",
      "OnlineBackup_No internet service         7032 non-null uint8\n",
      "OnlineBackup_Yes                         7032 non-null uint8\n",
      "DeviceProtection_No internet service     7032 non-null uint8\n",
      "DeviceProtection_Yes                     7032 non-null uint8\n",
      "TechSupport_No internet service          7032 non-null uint8\n",
      "TechSupport_Yes                          7032 non-null uint8\n",
      "StreamingTV_No internet service          7032 non-null uint8\n",
      "StreamingTV_Yes                          7032 non-null uint8\n",
      "StreamingMovies_No internet service      7032 non-null uint8\n",
      "StreamingMovies_Yes                      7032 non-null uint8\n",
      "Contract_One year                        7032 non-null uint8\n",
      "Contract_Two year                        7032 non-null uint8\n",
      "PaperlessBilling_Yes                     7032 non-null uint8\n",
      "PaymentMethod_Credit card (automatic)    7032 non-null uint8\n",
      "PaymentMethod_Electronic check           7032 non-null uint8\n",
      "PaymentMethod_Mailed check               7032 non-null uint8\n",
      "dtypes: float64(3), int64(1), uint8(27)\n",
      "memory usage: 405.3 KB\n",
      "None\n"
     ]
    }
   ],
   "source": [
    "df = pd.get_dummies(df, drop_first=True)\n",
    "print(df.info())"
   ]
  },
  {
   "cell_type": "code",
   "execution_count": 73,
   "metadata": {},
   "outputs": [],
   "source": [
    "from sklearn.linear_model import LogisticRegression\n",
    "from sklearn.model_selection import train_test_split\n",
    "from sklearn.model_selection import cross_val_score\n",
    "from sklearn.model_selection import KFold"
   ]
  },
  {
   "cell_type": "markdown",
   "metadata": {},
   "source": [
    "Base model :"
   ]
  },
  {
   "cell_type": "code",
   "execution_count": 74,
   "metadata": {},
   "outputs": [],
   "source": [
    "logreg = LogisticRegression()"
   ]
  },
  {
   "cell_type": "code",
   "execution_count": 75,
   "metadata": {},
   "outputs": [
    {
     "name": "stdout",
     "output_type": "stream",
     "text": [
      "(7032, 30)\n",
      "(7032,)\n"
     ]
    }
   ],
   "source": [
    "X = df.drop('Churn', axis=1)\n",
    "y = df['Churn']\n",
    "print(X.shape)\n",
    "print(y.shape)"
   ]
  },
  {
   "cell_type": "code",
   "execution_count": 76,
   "metadata": {},
   "outputs": [],
   "source": [
    "X_train, X_test, y_train, y_test = train_test_split(X, y, test_size=0.1, random_state=42)"
   ]
  },
  {
   "cell_type": "code",
   "execution_count": 77,
   "metadata": {},
   "outputs": [
    {
     "name": "stdout",
     "output_type": "stream",
     "text": [
      "(6328, 30)\n",
      "(704, 30)\n"
     ]
    }
   ],
   "source": [
    "print(X_train.shape)\n",
    "print(X_test.shape)"
   ]
  },
  {
   "cell_type": "code",
   "execution_count": 87,
   "metadata": {},
   "outputs": [],
   "source": [
    "logreg.fit(X_train, y_train)\n",
    "y_pred = logreg.predict(X_test)"
   ]
  },
  {
   "cell_type": "code",
   "execution_count": 88,
   "metadata": {},
   "outputs": [
    {
     "name": "stdout",
     "output_type": "stream",
     "text": [
      "[[481  43]\n",
      " [ 83  97]]\n",
      "\n",
      "\n",
      "             precision    recall  f1-score   support\n",
      "\n",
      "          0       0.85      0.92      0.88       524\n",
      "          1       0.69      0.54      0.61       180\n",
      "\n",
      "avg / total       0.81      0.82      0.81       704\n",
      "\n"
     ]
    }
   ],
   "source": [
    "from sklearn.metrics import classification_report\n",
    "from sklearn.metrics import confusion_matrix\n",
    "print(confusion_matrix(y_test, y_pred))\n",
    "print(\"\\n\")\n",
    "print(classification_report(y_test, y_pred))"
   ]
  },
  {
   "cell_type": "markdown",
   "metadata": {},
   "source": [
    "Base model using cross-validation :"
   ]
  },
  {
   "cell_type": "code",
   "execution_count": 79,
   "metadata": {},
   "outputs": [],
   "source": [
    "kfold = KFold(n_splits=5, random_state=None, shuffle=True)\n",
    "cv_results = cross_val_score(logreg, X, y, cv=kfold)"
   ]
  },
  {
   "cell_type": "code",
   "execution_count": 80,
   "metadata": {},
   "outputs": [
    {
     "name": "stdout",
     "output_type": "stream",
     "text": [
      "[0.79886283 0.80099502 0.78662873 0.8257468  0.8086771 ]\n",
      "\n",
      "\n",
      "0.8041820970336288\n"
     ]
    }
   ],
   "source": [
    "print(cv_results)\n",
    "print(\"\\n\")\n",
    "print(np.mean(cv_results))"
   ]
  },
  {
   "cell_type": "markdown",
   "metadata": {},
   "source": [
    "Parameters tuning :"
   ]
  },
  {
   "cell_type": "code",
   "execution_count": 81,
   "metadata": {},
   "outputs": [
    {
     "name": "stdout",
     "output_type": "stream",
     "text": [
      "[0.81663113 0.80881308 0.78876245 0.81009957 0.80156472]\n",
      "0.805174190013153\n"
     ]
    }
   ],
   "source": [
    "logreg_2 = LogisticRegression(penalty='l1', C=0.1)\n",
    "logreg_2.fit(X_train, y_train)\n",
    "cv_results_2 = cross_val_score(logreg_2, X, y, cv=kfold)\n",
    "print(cv_results_2)\n",
    "print(np.mean(cv_results_2))"
   ]
  },
  {
   "cell_type": "code",
   "execution_count": null,
   "metadata": {},
   "outputs": [],
   "source": [
    "Test of feature selection"
   ]
  },
  {
   "cell_type": "code",
   "execution_count": 82,
   "metadata": {},
   "outputs": [
    {
     "data": {
      "text/plain": [
       "array([-0.00000000e+00,  6.24273666e-03, -9.25217527e-05, -0.00000000e+00,\n",
       "        0.00000000e+00, -0.00000000e+00, -0.00000000e+00, -0.00000000e+00,\n",
       "        0.00000000e+00,  0.00000000e+00,  0.00000000e+00, -0.00000000e+00,\n",
       "       -0.00000000e+00, -0.00000000e+00, -0.00000000e+00, -0.00000000e+00,\n",
       "       -0.00000000e+00, -0.00000000e+00, -0.00000000e+00, -0.00000000e+00,\n",
       "       -0.00000000e+00,  0.00000000e+00, -0.00000000e+00,  0.00000000e+00,\n",
       "       -0.00000000e+00, -0.00000000e+00,  0.00000000e+00, -0.00000000e+00,\n",
       "        0.00000000e+00, -0.00000000e+00])"
      ]
     },
     "execution_count": 82,
     "metadata": {},
     "output_type": "execute_result"
    }
   ],
   "source": [
    "from sklearn.linear_model import Lasso\n",
    "lasso = Lasso(alpha=1)\n",
    "lasso.fit(X_train, y_train).coef_"
   ]
  },
  {
   "cell_type": "code",
   "execution_count": 83,
   "metadata": {},
   "outputs": [
    {
     "name": "stdout",
     "output_type": "stream",
     "text": [
      "[0.7938877  0.77896233 0.78236131 0.79374111 0.77311522]\n",
      "0.7844135348455851\n"
     ]
    }
   ],
   "source": [
    "logreg_3 = LogisticRegression()\n",
    "X_3 = X[['tenure', 'MonthlyCharges', 'TotalCharges']]\n",
    "X_train_3, X_test_3, y_train_3, y_test_3 = train_test_split(X_3, y, test_size=0.1, random_state=42)\n",
    "logreg_2.fit(X_train, y_train)\n",
    "cv_results_3 = cross_val_score(logreg_3, X_3, y, cv=kfold)\n",
    "print(cv_results_3)\n",
    "print(np.mean(cv_results_3))"
   ]
  },
  {
   "cell_type": "markdown",
   "metadata": {},
   "source": [
    "Pipeline to avoid data leakage in cross-validation"
   ]
  },
  {
   "cell_type": "code",
   "execution_count": 96,
   "metadata": {},
   "outputs": [
    {
     "data": {
      "text/plain": [
       "0.8224431818181818"
      ]
     },
     "execution_count": 96,
     "metadata": {},
     "output_type": "execute_result"
    }
   ],
   "source": [
    "from sklearn.pipeline import Pipeline\n",
    "from sklearn.preprocessing import StandardScaler\n",
    "from sklearn.model_selection import GridSearchCV\n",
    "scaler = StandardScaler()\n",
    "steps = [('scaler', scaler),('logistic_regression', logreg)]\n",
    "pipeline = Pipeline(steps)\n",
    "#parameters = {'penalty':['l1', 'l2'], 'C':[1, 10, 100]}\n",
    "#cv = GridSearchCV(pipeline, param_grid=parameters)\n",
    "pipeline.fit(X_train, y_train)\n",
    "#print(cv.best_params_)\n",
    "#If no cv, fit can also be called on pipeline\n",
    "#pipeline.fit(X_train, y_train)\n",
    "pipeline.score(X_test, y_test)\n"
   ]
  },
  {
   "cell_type": "code",
   "execution_count": 91,
   "metadata": {},
   "outputs": [
    {
     "data": {
      "text/plain": [
       "dict_keys(['random_state', 'intercept_scaling', 'fit_intercept', 'dual', 'class_weight', 'warm_start', 'n_jobs', 'penalty', 'solver', 'tol', 'verbose', 'multi_class', 'C', 'max_iter'])"
      ]
     },
     "execution_count": 91,
     "metadata": {},
     "output_type": "execute_result"
    }
   ],
   "source": [
    "logreg.get_params().keys()"
   ]
  },
  {
   "cell_type": "code",
   "execution_count": null,
   "metadata": {},
   "outputs": [],
   "source": []
  }
 ],
 "metadata": {
  "kernelspec": {
   "display_name": "Python 3",
   "language": "python",
   "name": "python3"
  },
  "language_info": {
   "codemirror_mode": {
    "name": "ipython",
    "version": 3
   },
   "file_extension": ".py",
   "mimetype": "text/x-python",
   "name": "python",
   "nbconvert_exporter": "python",
   "pygments_lexer": "ipython3",
   "version": "3.5.6"
  }
 },
 "nbformat": 4,
 "nbformat_minor": 4
}
